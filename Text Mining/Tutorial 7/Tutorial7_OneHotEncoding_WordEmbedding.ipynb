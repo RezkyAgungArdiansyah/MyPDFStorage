{
 "cells": [
  {
   "cell_type": "code",
   "execution_count": 1,
   "id": "daca9098",
   "metadata": {},
   "outputs": [
    {
     "name": "stdout",
     "output_type": "stream",
     "text": [
      "Ordered set:  ['<b>here</b>', '<h1>here', '<i>another', 'another', 'example</h1>,', 'example</i>.', 'is', 'is<br/>']\n",
      "\n",
      "THE RESULT OF ONE-HOT ENCODING:\n",
      "[[0 1 0 0 0 0 0 0]\n",
      " [0 0 0 0 0 0 1 0]\n",
      " [0 0 0 1 0 0 0 0]\n",
      " [0 0 0 0 1 0 0 0]\n",
      " [1 0 0 0 0 0 0 0]\n",
      " [0 0 0 0 0 0 0 1]\n",
      " [0 0 1 0 0 0 0 0]\n",
      " [0 0 0 0 0 1 0 0]]\n"
     ]
    }
   ],
   "source": [
    "import numpy as np\n",
    "text = \"<h1>Here is another example</h1>, <b>here</b> is<br/> <i>another example</i>.\".lower().split()\n",
    "orderedSet = sorted(set(text))\n",
    "print(\"Ordered set: \", orderedSet)\n",
    "\n",
    "def get_vec(len_text, word):\n",
    "    empty_vector = [0] * len_text\n",
    "    vect = 0\n",
    "    find = np.where( np.array(orderedSet) == word)[0][0]\n",
    "    empty_vector[find] = 1\n",
    "    return empty_vector\n",
    "\n",
    "def get_matrix(orderedSet):\n",
    "    one_hot = []\n",
    "    len_text = len(orderedSet)\n",
    "    for i in text:\n",
    "        vec = get_vec(len_text,i)\n",
    "        one_hot.append(vec)\n",
    "        \n",
    "    return np.asarray(one_hot)\n",
    "\n",
    "print (\"\\nTHE RESULT OF ONE-HOT ENCODING:\")\n",
    "print (get_matrix(orderedSet))"
   ]
  },
  {
   "cell_type": "code",
   "execution_count": 2,
   "id": "9c656560",
   "metadata": {},
   "outputs": [
    {
     "name": "stdout",
     "output_type": "stream",
     "text": [
      "Cleaned text:  Here is another example here is another example \n",
      "Split result:  ['here', 'is', 'another', 'example', 'here', 'is', 'another', 'example']\n",
      "Ordered set:  ['another', 'example', 'here', 'is']\n",
      "\n",
      "THE RESULT OF ONE-HOT ENCODING:\n",
      "[[0 0 1 0]\n",
      " [0 0 0 1]\n",
      " [1 0 0 0]\n",
      " [0 1 0 0]\n",
      " [0 0 1 0]\n",
      " [0 0 0 1]\n",
      " [1 0 0 0]\n",
      " [0 1 0 0]]\n"
     ]
    }
   ],
   "source": [
    "import numpy as np\n",
    "import re\n",
    "\n",
    "def cleanText(text):\n",
    "    clean = re.compile('<.*?>')\n",
    "    text = re.sub(clean, '', text)\n",
    "    return re.sub('\\W+',' ', text)\n",
    "\n",
    "text = \"<h1>Here is another example</h1>, <b>here</b> is<br/> <i>another example</i>.\"\n",
    "text = cleanText(text)\n",
    "print(\"Cleaned text: \", text)\n",
    "text = text.lower().split()\n",
    "print(\"Split result: \", text)\n",
    "orderedSet = sorted(set(text))\n",
    "print(\"Ordered set: \", orderedSet)\n",
    "\n",
    "def get_vec(len_text, word):\n",
    "    empty_vector = [0] * len_text\n",
    "    vect = 0\n",
    "    find = np.where( np.array(orderedSet) == word)[0][0]\n",
    "    empty_vector[find] = 1\n",
    "    return empty_vector\n",
    "\n",
    "def get_matrix(orderedSet):\n",
    "    one_hot = []\n",
    "    len_text = len(orderedSet)\n",
    "    for i in text:\n",
    "        vec = get_vec(len_text,i)\n",
    "        one_hot.append(vec)\n",
    "        \n",
    "    return np.asarray(one_hot)\n",
    "\n",
    "print (\"\\nTHE RESULT OF ONE-HOT ENCODING:\")\n",
    "print (get_matrix(orderedSet))"
   ]
  },
  {
   "cell_type": "code",
   "execution_count": 3,
   "id": "349a9f04",
   "metadata": {},
   "outputs": [
    {
     "name": "stdout",
     "output_type": "stream",
     "text": [
      "['i', 'like', 'rabbit', 'i', 'like', 'dog', 'i', 'like', 'cat', 'i', 'like', 'animal', 'dog', 'is', 'cute', 'cat', 'chases', 'mouse', 'dog', 'is', 'animal', 'cat', 'is', 'animal', 'fish', 'is', 'animal', 'dog', 'and', 'cat', 'fish', 'and', 'rabbit', 'i', 'like', 'apple', 'rabbit', 'is', 'cute', 'music', 'and', 'movie', 'watch', 'movie', 'i', 'like', 'book', 'i', 'hate', 'mouse', 'listen', 'to', 'music']\n",
      "['i', 'is', 'movie', 'music', 'animal', 'cute', 'rabbit', 'to', 'and', 'listen', 'chases', 'mouse', 'dog', 'hate', 'watch', 'cat', 'like', 'apple', 'book', 'fish']\n",
      "{'i': 0, 'is': 1, 'movie': 2, 'music': 3, 'animal': 4, 'cute': 5, 'rabbit': 6, 'to': 7, 'and': 8, 'listen': 9, 'chases': 10, 'mouse': 11, 'dog': 12, 'hate': 13, 'watch': 14, 'cat': 15, 'like': 16, 'apple': 17, 'book': 18, 'fish': 19}\n"
     ]
    }
   ],
   "source": [
    "import numpy as np\n",
    "import torch\n",
    "import torch.nn as nn\n",
    "import torch.optim as optim\n",
    "from torch.autograd import Variable\n",
    "import matplotlib.pyplot as plt\n",
    "\n",
    "dtype = torch.FloatTensor\n",
    "\n",
    "# 3 Words Sentence (to simplify)\n",
    "# All them form our text corpus\n",
    "sentences = [ \"i like rabbit\", \"i like dog\", \"i like cat\", \n",
    "              \"i like animal\", \"dog is cute\", \n",
    "              \"cat chases mouse\", \"dog is animal\", \n",
    "              \"cat is animal\", \"fish is animal\",\n",
    "              \"dog and cat\", \"fish and rabbit\", \"i like apple\", \n",
    "              \"rabbit is cute\", \"music and movie\", \"watch movie\", \n",
    "              \"i like book\", \"i hate mouse\", \"listen to music\"]\n",
    "\n",
    "# list all the words present in our corpus\n",
    "word_sequence = \" \".join(sentences).split()\n",
    "print(word_sequence )\n",
    "# build the vocabulary\n",
    "word_list = list(set(word_sequence))\n",
    "print(word_list)\n",
    "word_dict = {w: i for i, w in enumerate(word_list)}\n",
    "print(word_dict)"
   ]
  },
  {
   "cell_type": "code",
   "execution_count": 6,
   "id": "ff3de5ad",
   "metadata": {},
   "outputs": [
    {
     "name": "stdout",
     "output_type": "stream",
     "text": [
      "Input word : \n",
      "like 16\n",
      "Context words : \n",
      "i rabbit\n",
      "[0, 6]\n"
     ]
    }
   ],
   "source": [
    "# Word2Vec Parameter\n",
    "batch_size = 20  \n",
    "embedding_size = 2  # To show 2 dim embedding graph\n",
    "voc_size = len(word_list)\n",
    "# input word\n",
    "j = 1\n",
    "print(\"Input word : \")\n",
    "print(word_sequence[j], word_dict[word_sequence[j]])\n",
    "# context words\n",
    "print(\"Context words : \")\n",
    "print(word_sequence[j - 1], word_sequence[j + 1])\n",
    "print([word_dict[word_sequence[j - 1]], word_dict[word_sequence[j + 1]]])"
   ]
  },
  {
   "cell_type": "code",
   "execution_count": 8,
   "id": "92b0383e",
   "metadata": {},
   "outputs": [
    {
     "data": {
      "text/plain": [
       "[[16, 0], [16, 6], [6, 16], [6, 0], [0, 6], [0, 16]]"
      ]
     },
     "execution_count": 8,
     "metadata": {},
     "output_type": "execute_result"
    }
   ],
   "source": [
    "# Make skip gram of one size window\n",
    "skip_grams = []\n",
    "for i in range(1, len(word_sequence) - 1):\n",
    "    input = word_dict[word_sequence[i]]\n",
    "    context = [word_dict[word_sequence[i - 1]], word_dict[word_sequence[i + 1]]]\n",
    "\n",
    "    for w in context:\n",
    "        skip_grams.append([input, w])\n",
    "\n",
    "\n",
    "#lets plot some data\n",
    "skip_grams[:6]"
   ]
  },
  {
   "cell_type": "code",
   "execution_count": 9,
   "id": "3f96014a",
   "metadata": {},
   "outputs": [
    {
     "data": {
      "text/plain": [
       "([array([0., 0., 0., 0., 0., 0., 0., 0., 0., 0., 0., 0., 0., 0., 0., 0., 1.,\n",
       "         0., 0., 0.]),\n",
       "  array([1., 0., 0., 0., 0., 0., 0., 0., 0., 0., 0., 0., 0., 0., 0., 0., 0.,\n",
       "         0., 0., 0.]),\n",
       "  array([0., 0., 0., 0., 0., 0., 1., 0., 0., 0., 0., 0., 0., 0., 0., 0., 0.,\n",
       "         0., 0., 0.])],\n",
       " [0, 6, 0])"
      ]
     },
     "execution_count": 9,
     "metadata": {},
     "output_type": "execute_result"
    }
   ],
   "source": [
    "np.random.seed(172)\n",
    "\n",
    "def random_batch(data, size):\n",
    "    random_inputs = []\n",
    "    random_labels = []\n",
    "    random_index = np.random.choice(range(len(data)), size, replace=False)\n",
    "\n",
    "    for i in random_index:\n",
    "        # one-hot encoding of words\n",
    "        random_inputs.append(np.eye(voc_size)[data[i][0]])  # input\n",
    "        random_labels.append(data[i][1])  # context word\n",
    "\n",
    "    return random_inputs, random_labels\n",
    "\n",
    "random_batch(skip_grams[:6], size=3)"
   ]
  },
  {
   "cell_type": "code",
   "execution_count": 7,
   "id": "237bfd48",
   "metadata": {},
   "outputs": [],
   "source": [
    "# Model\n",
    "class Word2Vec(nn.Module):\n",
    "    def __init__(self):\n",
    "        super(Word2Vec, self).__init__()\n",
    "\n",
    "        # parameters between -1 and + 1\n",
    "        # voc_size -> embedding_size Weight\n",
    "        self.W = nn.Parameter(-2 * torch.rand(voc_size, embedding_size) + 1).type(dtype) \n",
    "        # embedding_size -> voc_size Weight\n",
    "        self.V = nn.Parameter(-2 * torch.rand(embedding_size, voc_size) + 1).type(dtype) \n",
    "\n",
    "    def forward(self, X):\n",
    "        hidden_layer = torch.matmul(X, self.W) # hidden_layer : [batch_size, embedding_size]\n",
    "        output_layer = torch.matmul(hidden_layer, self.V) # output_layer : [batch_size, voc_size]\n",
    "        #return output_layer \n",
    "        return output_layer\n",
    "\n",
    "model = Word2Vec()\n",
    "# Set the model in train mode\n",
    "model.train()\n",
    "criterion = nn.CrossEntropyLoss() \n",
    "optimizer = optim.Adam(model.parameters(), lr=0.001)"
   ]
  },
  {
   "cell_type": "code",
   "execution_count": 8,
   "id": "d2295ffe",
   "metadata": {},
   "outputs": [
    {
     "name": "stdout",
     "output_type": "stream",
     "text": [
      "Epoch: 1000 cost = 2.759658\n",
      "Epoch: 2000 cost = 2.565675\n",
      "Epoch: 3000 cost = 2.525607\n",
      "Epoch: 4000 cost = 2.482483\n",
      "Epoch: 5000 cost = 2.337673\n"
     ]
    }
   ],
   "source": [
    "# Training\n",
    "for epoch in range(5000):\n",
    "\n",
    "    input_batch, target_batch = random_batch(skip_grams, batch_size)\n",
    "\n",
    "    # new_tensor(data, dtype=None, device=None, requires_grad=False)\n",
    "    input_batch = torch.Tensor(input_batch)\n",
    "    target_batch = torch.LongTensor(target_batch)\n",
    "\n",
    "    optimizer.zero_grad()\n",
    "    output = model(input_batch)\n",
    "\n",
    "    # output : [batch_size, voc_size], target_batch : [batch_size] (LongTensor, not one-hot)\n",
    "    loss = criterion(output, target_batch)\n",
    "    if (epoch + 1)%1000 == 0:\n",
    "        print('Epoch:', '%04d' % (epoch + 1), 'cost =', '{:.6f}'.format(loss))\n",
    "\n",
    "    loss.backward()\n",
    "    optimizer.step()"
   ]
  },
  {
   "cell_type": "code",
   "execution_count": 9,
   "id": "37b27563",
   "metadata": {},
   "outputs": [
    {
     "name": "stdout",
     "output_type": "stream",
     "text": [
      "tensor([[-3.9530e-01, -1.1977e+00],\n",
      "        [-1.1074e-01,  5.5578e-01],\n",
      "        [-1.1224e+00, -1.7714e+00],\n",
      "        [-4.7694e-01,  1.1233e-01],\n",
      "        [-1.4306e+00,  3.0196e+00],\n",
      "        [ 1.7081e-01, -1.3468e-01],\n",
      "        [ 6.7669e-01, -1.3274e+00],\n",
      "        [ 1.1087e-01, -6.3640e-01],\n",
      "        [-2.3755e+00, -5.2150e-01],\n",
      "        [-2.2572e+00,  5.6926e-01],\n",
      "        [ 7.6038e-01, -1.1725e+00],\n",
      "        [ 1.3367e+00, -3.7740e-01],\n",
      "        [-1.6868e+00, -1.8745e+00],\n",
      "        [ 2.3085e-03, -4.6276e-01],\n",
      "        [-4.7750e-01, -7.8574e-01],\n",
      "        [-1.3115e+00,  1.9129e+00],\n",
      "        [ 1.0352e-01, -1.6357e+00],\n",
      "        [ 2.1726e+00,  2.3673e+00],\n",
      "        [ 1.1420e+00, -1.5775e+00],\n",
      "        [-2.4794e+00, -1.1904e+00]])\n"
     ]
    }
   ],
   "source": [
    "# Learned W\n",
    "W, _= model.parameters()\n",
    "print(W.detach())"
   ]
  },
  {
   "cell_type": "code",
   "execution_count": 10,
   "id": "a88263d2",
   "metadata": {},
   "outputs": [
    {
     "data": {
      "image/png": "[encoded data removed]",
      "text/plain": [
       "<Figure size 432x288 with 1 Axes>"
      ]
     },
     "metadata": {
      "needs_background": "light"
     },
     "output_type": "display_data"
    }
   ],
   "source": [
    "for i, word in enumerate(word_list):\n",
    "    W, _= model.parameters()\n",
    "    W = W.detach()\n",
    "    x,y = float(W[i][0]), float(W[i][1])\n",
    "    plt.scatter(x, y)\n",
    "    plt.annotate(word, xy=(x, y), xytext=(5, 2), textcoords='offset points', ha='right', va='bottom')\n",
    "plt.show()"
   ]
  }
 ],
 "metadata": {
  "kernelspec": {
   "display_name": "Python 3 (ipykernel)",
   "language": "python",
   "name": "python3"
  },
  "language_info": {
   "codemirror_mode": {
    "name": "ipython",
    "version": 3
   },
   "file_extension": ".py",
   "mimetype": "text/x-python",
   "name": "python",
   "nbconvert_exporter": "python",
   "pygments_lexer": "ipython3",
   "version": "3.8.10"
  }
 },
 "nbformat": 4,
 "nbformat_minor": 5
}
