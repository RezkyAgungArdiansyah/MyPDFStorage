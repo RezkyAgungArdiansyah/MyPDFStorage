{
 "cells": [
  {
   "cell_type": "code",
   "execution_count": null,
   "id": "4b7b806e",
   "metadata": {},
   "outputs": [],
   "source": [
    "!unzip -q review_polarity.zip"
   ]
  },
  {
   "cell_type": "code",
   "execution_count": null,
   "id": "474bdeeb",
   "metadata": {},
   "outputs": [],
   "source": [
    "data_path = \"./review_polarity/txt_sentoken/\""
   ]
  },
  {
   "cell_type": "code",
   "execution_count": null,
   "id": "35c502bd",
   "metadata": {},
   "outputs": [],
   "source": [
    "import pandas as pd\n",
    "import pathlib as pl\n",
    "def _read_all_reviews_():\n",
    "    all_reviews = []\n",
    "    for p in pl.Path(data_path+'pos').iterdir():\n",
    "        file = open(p, 'r')\n",
    "        all_reviews.append({'reviews_content': file.read(), 'category': 'positive'})\n",
    "        file.close()\n",
    "    for p in pl.Path(data_path+'neg').iterdir():\n",
    "        file = open(p, 'r')\n",
    "        all_reviews.append({'reviews_content': file.read(), 'category': 'negative'})\n",
    "        file.close()\n",
    "    all_reviews_df = pd.DataFrame(all_reviews)\n",
    "    return all_reviews_df\n",
    "print(_read_all_reviews_())"
   ]
  },
  {
   "cell_type": "code",
   "execution_count": null,
   "id": "4faf05f3",
   "metadata": {},
   "outputs": [],
   "source": [
    "!pip install gensim #when need it"
   ]
  },
  {
   "cell_type": "code",
   "execution_count": null,
   "id": "5ad323e0",
   "metadata": {},
   "outputs": [],
   "source": [
    "import pandas as pd\n",
    "import pathlib as pl\n",
    "import multiprocessing\n",
    "import numpy as np\n",
    "import sklearn.metrics as metrics\n",
    "\n",
    "from sklearn.pipeline import Pipeline\n",
    "from sklearn.decomposition import PCA\n",
    "from gensim.models.doc2vec import TaggedDocument, Doc2Vec\n",
    "from sklearn.base import BaseEstimator, TransformerMixin\n",
    "from sklearn.linear_model import LogisticRegression\n",
    "from sklearn.model_selection import train_test_split\n",
    "from gensim.parsing.preprocessing import preprocess_string\n",
    "from sklearn import utils\n",
    "from tqdm import tqdm\n",
    "from sklearn.model_selection import GridSearchCV\n",
    "\n",
    "class Doc2VecTransformer(BaseEstimator):\n",
    "\n",
    "    def __init__(self, vector_size=100, learning_rate=0.02, epochs=20):\n",
    "        self.learning_rate = learning_rate\n",
    "        self.epochs = epochs\n",
    "        self._model = None\n",
    "        self.vector_size = vector_size\n",
    "        self.workers = multiprocessing.cpu_count()\n",
    "\n",
    "    def fit(self, df_x, df_y=None):\n",
    "        tagged_x = [TaggedDocument(preprocess_string(row['reviews_content']), [index]) for index, row in df_x.iterrows()]\n",
    "        model = Doc2Vec(documents=tagged_x, vector_size=self.vector_size, workers=self.workers)\n",
    "\n",
    "        for epoch in range(self.epochs):\n",
    "            model.train(utils.shuffle([x for x in tqdm(tagged_x)]), total_examples=len(tagged_x), epochs=1)\n",
    "            model.alpha -= self.learning_rate\n",
    "            model.min_alpha = model.alpha\n",
    "\n",
    "        self._model = model\n",
    "        return self\n",
    "\n",
    "    def transform(self, df_x):\n",
    "        return np.asmatrix(np.array([self._model.infer_vector(preprocess_string(row['reviews_content']))\n",
    "                                     for index, row in df_x.iterrows()]))"
   ]
  },
  {
   "cell_type": "code",
   "execution_count": null,
   "id": "5f88f817",
   "metadata": {},
   "outputs": [],
   "source": [
    "def train_and_build_model():\n",
    "    all_reviews_df = _read_all_reviews_()\n",
    "    train_x_df, test_x_df, train_y_df, test_y_df = train_test_split(all_reviews_df[['reviews_content']], \n",
    "                                                                    all_reviews_df[['category']])\n",
    "\n",
    "#     print((train_x_df))\n",
    "#     print(len(test_x_df))\n",
    "#     asdsa\n",
    "    train_x_df.to_csv(\"train_x_df.csv\")\n",
    "    train_y_df.to_csv(\"train_y_df.csv\")\n",
    "    test_x_df.to_csv(\"test_x_df.csv\")\n",
    "    test_y_df.to_csv(\"test_y_df.csv\")\n",
    "        \n",
    "    pl = Pipeline(steps=[('doc2vec', Doc2VecTransformer(vector_size=220)),\n",
    "                         ('pca', PCA(n_components=100)),\n",
    "                         ('logistic', LogisticRegression())\n",
    "                         ])\n",
    "    pl.fit(train_x_df[['reviews_content']], train_y_df[['category']])\n",
    "    predictions_y = pl.predict(test_x_df[['reviews_content']])\n",
    "    print(predictions_y)\n",
    "    print('Accuracy: ', metrics.accuracy_score(y_true=test_y_df[['category']], y_pred=predictions_y))"
   ]
  },
  {
   "cell_type": "code",
   "execution_count": null,
   "id": "f67d0add",
   "metadata": {},
   "outputs": [],
   "source": [
    "def train_long_range_grid_search():\n",
    "    all_reviews_df = _read_all_reviews_()\n",
    "    train_x_df, test_x_df, train_y_df, test_y_df = train_test_split(all_reviews_df[['reviews_content']], \n",
    "                                                                    all_reviews_df[['category']])\n",
    "    \n",
    "    pl = Pipeline(steps=[('doc2vec', Doc2VecTransformer()),\n",
    "                         ('pca', PCA()),\n",
    "                         ('logistic', LogisticRegression())\n",
    "                         ])\n",
    "\n",
    "    param_grid = {\n",
    "        'doc2vec__vector_size': [x for x in range(100, 250)],\n",
    "        'pca__n_components': [x for x in range(1, 50)]\n",
    "    }\n",
    "    gs_cv = GridSearchCV(estimator=pl, param_grid=param_grid, cv=5, n_jobs=-1,\n",
    "                         scoring=\"accuracy\")\n",
    "    gs_cv.fit(train_x_df[['reviews_content']], train_y_df[['category']])\n",
    "\n",
    "    print(\"Best parameter (CV score=%0.3f):\" % gs_cv.best_score_)\n",
    "    print(gs_cv.best_params_)\n",
    "    predictions_y = gs_cv.predict(test_x_df[['reviews_content']])\n",
    "    print('Accuracy: ', metrics.accuracy_score(y_true=test_y_df[['category']], y_pred=predictions_y))\n",
    "    \n"
   ]
  },
  {
   "cell_type": "code",
   "execution_count": null,
   "id": "ed0c12ec",
   "metadata": {},
   "outputs": [],
   "source": [
    "def train_short_range_grid_search():\n",
    "    all_reviews_df = _read_all_reviews_()\n",
    "    train_x_df, test_x_df, train_y_df, test_y_df = train_test_split(all_reviews_df[['reviews_content']], \n",
    "                                                                    all_reviews_df[['category']])\n",
    "\n",
    "    pl = Pipeline(steps=[('doc2vec', Doc2VecTransformer()),\n",
    "                         ('pca', PCA()),\n",
    "                         ('logistic', LogisticRegression())\n",
    "                         ])\n",
    "\n",
    "    param_grid = {\n",
    "        'doc2vec__vector_size': [200, 220, 250],\n",
    "        'pca__n_components': [50, 75, 100]\n",
    "    }\n",
    "    gs_cv = GridSearchCV(estimator=pl, param_grid=param_grid, cv=3, n_jobs=-1,\n",
    "                         scoring=\"accuracy\")\n",
    "    gs_cv.fit(train_x_df[['reviews_content']], train_y_df[['category']])\n",
    "\n",
    "    print(\"Best parameter (CV score=%0.3f):\" % gs_cv.best_score_)\n",
    "    print(gs_cv.best_params_)\n",
    "    predictions_y = gs_cv.predict(test_x_df[['reviews_content']])\n",
    "    print('Accuracy: ', metrics.accuracy_score(y_true=test_y_df[['category']], y_pred=predictions_y))\n"
   ]
  }
 ],
 "metadata": {
  "kernelspec": {
   "display_name": "Python [conda env:ghaluh]",
   "language": "python",
   "name": "conda-env-ghaluh-py"
  },
  "language_info": {
   "codemirror_mode": {
    "name": "ipython",
    "version": 3
   },
   "file_extension": ".py",
   "mimetype": "text/x-python",
   "name": "python",
   "nbconvert_exporter": "python",
   "pygments_lexer": "ipython3",
   "version": "3.9.7"
  },
  "varInspector": {
   "cols": {
    "lenName": 16,
    "lenType": 16,
    "lenVar": 40
   },
   "kernels_config": {
    "python": {
     "delete_cmd_postfix": "",
     "delete_cmd_prefix": "del ",
     "library": "var_list.py",
     "varRefreshCmd": "print(var_dic_list())"
    },
    "r": {
     "delete_cmd_postfix": ") ",
     "delete_cmd_prefix": "rm(",
     "library": "var_list.r",
     "varRefreshCmd": "cat(var_dic_list()) "
    }
   },
   "types_to_exclude": [
    "module",
    "function",
    "builtin_function_or_method",
    "instance",
    "_Feature"
   ],
   "window_display": false
  }
 },
 "nbformat": 4,
 "nbformat_minor": 5
}
