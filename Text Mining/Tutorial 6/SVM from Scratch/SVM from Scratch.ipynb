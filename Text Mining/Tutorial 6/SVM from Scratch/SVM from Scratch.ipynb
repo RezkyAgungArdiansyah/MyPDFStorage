{
 "cells": [
  {
   "cell_type": "code",
   "execution_count": 76,
   "id": "509fcd5a-111c-445b-9d53-e973e9d3886d",
   "metadata": {},
   "outputs": [],
   "source": [
    "import numpy as np\n",
    "import random\n",
    "import matplotlib.pyplot as plt"
   ]
  },
  {
   "cell_type": "code",
   "execution_count": 68,
   "id": "fc5359df-67ce-4925-9795-a41f3539c359",
   "metadata": {},
   "outputs": [],
   "source": [
    "class SVM:\n",
    "    \n",
    "    def __init__(self,learning_rate = 0.001, lambda_param = 0.01, n_iters=100, verbose =1 ):\n",
    "        self.lr = learning_rate\n",
    "        self.lambda_param = lambda_param\n",
    "        self.n_iters = n_iters\n",
    "        self.w = None\n",
    "        self.b = None\n",
    "        self.verbose = verbose\n",
    "    def fit(self, X, y):\n",
    "        n_samples, n_features = X.shape\n",
    "\n",
    "        y_ = np.where(y <= 0,-1,1)\n",
    "\n",
    "        self.w = np.random.rand(n_features)\n",
    "        self.b = np.random.rand()\n",
    "\n",
    "        for i in range(self.n_iters):\n",
    "            for idx, x_i in enumerate(X):\n",
    "                condition = y_[idx] * (np.dot(x_i,self.w) - self.b) >= 1\n",
    "                if condition:\n",
    "                    self.w -= self.lr* (2*self.lambda_param * self.w)\n",
    "                else:\n",
    "                    self.w -= self.lr*(2 * self.lambda_param * self.w - np.dot(x_i,y_[idx]))\n",
    "                    self.b -= self.lr * y_[idx]\n",
    "                if self.verbose == 1 and i% 1000 == 0 :\n",
    "                    loss = []\n",
    "                    for idx, x_i in enumerate(X):\n",
    "                        loss.append(max(0,1- y_[idx]* (np.dot(self.w,x_i)-self.b)))\n",
    "                    loss = sum(loss)/n_samples\n",
    "                    J = self.lambda_param * np.dot(self.w,self.w) + loss\n",
    "                    print('loss J : ',J)\n",
    "                        \n",
    "    def predict(self, X):\n",
    "        approx = np.dot(X, self.w) - self.b\n",
    "        return np.sign(approx)\n"
   ]
  },
  {
   "cell_type": "code",
   "execution_count": 88,
   "id": "863e22b9-a54c-49f6-a3ca-cb4258704b1b",
   "metadata": {},
   "outputs": [],
   "source": [
    "X = np.random.rand(10,2)\n",
    "y = np.random.uniform(-1,1, size = (10,))\n",
    "y_ = np.where(y<= 0, -1,1)\n",
    "X_test = np.random.randn(2)"
   ]
  },
  {
   "cell_type": "code",
   "execution_count": 89,
   "id": "2e67cd5e-80f8-4e50-b900-3fada3d4fbbd",
   "metadata": {},
   "outputs": [
    {
     "data": {
      "text/plain": [
       "<matplotlib.collections.PathCollection at 0x297d28fa210>"
      ]
     },
     "execution_count": 89,
     "metadata": {},
     "output_type": "execute_result"
    },
    {
     "data": {
      "image/png": "[encoded data removed]",
      "text/plain": [
       "<Figure size 640x480 with 1 Axes>"
      ]
     },
     "metadata": {},
     "output_type": "display_data"
    }
   ],
   "source": [
    "X_neg = X[y_==-1]\n",
    "X_pos = X[y_==1]\n",
    "\n",
    "# Plot positive and negative examples\n",
    "plt.scatter(X_pos[:, 0], X_pos[:, 1], color='blue', label='Positive')\n",
    "plt.scatter(X_neg[:, 0], X_neg[:, 1], color='red', label='Negative')\n"
   ]
  },
  {
   "cell_type": "code",
   "execution_count": 93,
   "id": "9b0bfc11-d8f1-4570-87fb-76d381c27618",
   "metadata": {},
   "outputs": [
    {
     "name": "stdout",
     "output_type": "stream",
     "text": [
      "[0.29788391 0.65447717]\n",
      "-0.2984519395300342\n"
     ]
    }
   ],
   "source": [
    "print(model.w)\n",
    "print(model.b)"
   ]
  },
  {
   "cell_type": "code",
   "execution_count": 90,
   "id": "3af10c83-59d9-4ad6-bb50-4f2b2c37c565",
   "metadata": {},
   "outputs": [
    {
     "data": {
      "text/plain": [
       "1.0"
      ]
     },
     "execution_count": 90,
     "metadata": {},
     "output_type": "execute_result"
    }
   ],
   "source": [
    "model = SVM(verbose = 0)\n",
    "model.fit(X,y)\n"
   ]
  }
 ],
 "metadata": {
  "kernelspec": {
   "display_name": "Python 3 (ipykernel)",
   "language": "python",
   "name": "python3"
  },
  "language_info": {
   "codemirror_mode": {
    "name": "ipython",
    "version": 3
   },
   "file_extension": ".py",
   "mimetype": "text/x-python",
   "name": "python",
   "nbconvert_exporter": "python",
   "pygments_lexer": "ipython3",
   "version": "3.11.7"
  }
 },
 "nbformat": 4,
 "nbformat_minor": 5
}
