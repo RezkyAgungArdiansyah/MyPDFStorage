{
 "cells": [
  {
   "cell_type": "markdown",
   "id": "99a9d4b8-c355-46ae-9bcd-e6258708eff8",
   "metadata": {},
   "source": [
    "# Import Libraries"
   ]
  },
  {
   "cell_type": "code",
   "execution_count": 18,
   "id": "0b141aec-35c6-4c61-b64a-e05ee05efb9e",
   "metadata": {},
   "outputs": [
    {
     "name": "stderr",
     "output_type": "stream",
     "text": [
      "[nltk_data] Downloading package wordnet to\n",
      "[nltk_data]     C:\\Users\\Lenovo\\AppData\\Roaming\\nltk_data...\n",
      "[nltk_data]   Package wordnet is already up-to-date!\n"
     ]
    }
   ],
   "source": [
    "import pandas as pd\n",
    "import numpy as np\n",
    "from sklearn.feature_extraction.text import CountVectorizer \n",
    "from sklearn.feature_extraction.text import TfidfVectorizer as TFIDF\n",
    "import random\n",
    "import matplotlib.pyplot as plt\n",
    "import re\n",
    "import nltk\n",
    "nltk.download('wordnet')\n",
    "from nltk.tokenize import word_tokenize\n",
    "from sklearn.metrics import accuracy_score\n",
    "from sklearn.svm import SVC\n",
    "from sklearn.model_selection import cross_val_score\n",
    "from sklearn.naive_bayes import GaussianNB\n",
    "from sklearn.naive_bayes import MultinomialNB\n",
    "from sklearn.naive_bayes import BernoulliNB\n",
    "from nltk.stem import WordNetLemmatizer\n",
    "wnl = WordNetLemmatizer()"
   ]
  },
  {
   "cell_type": "code",
   "execution_count": 19,
   "id": "d726a246-cb7d-40ce-8e94-a93eea38f36e",
   "metadata": {},
   "outputs": [
    {
     "data": {
      "text/html": [
       "<div>\n",
       "<style scoped>\n",
       "    .dataframe tbody tr th:only-of-type {\n",
       "        vertical-align: middle;\n",
       "    }\n",
       "\n",
       "    .dataframe tbody tr th {\n",
       "        vertical-align: top;\n",
       "    }\n",
       "\n",
       "    .dataframe thead th {\n",
       "        text-align: right;\n",
       "    }\n",
       "</style>\n",
       "<table border=\"1\" class=\"dataframe\">\n",
       "  <thead>\n",
       "    <tr style=\"text-align: right;\">\n",
       "      <th></th>\n",
       "      <th>reviews_content</th>\n",
       "      <th>category</th>\n",
       "    </tr>\n",
       "  </thead>\n",
       "  <tbody>\n",
       "    <tr>\n",
       "      <th>0</th>\n",
       "      <td>airplane ! is considered among many to be the ...</td>\n",
       "      <td>positive</td>\n",
       "    </tr>\n",
       "    <tr>\n",
       "      <th>1</th>\n",
       "      <td>you've got to love disney . \\nno matter what t...</td>\n",
       "      <td>positive</td>\n",
       "    </tr>\n",
       "    <tr>\n",
       "      <th>2</th>\n",
       "      <td>\" the tailor of panama \" is a different kind ...</td>\n",
       "      <td>positive</td>\n",
       "    </tr>\n",
       "    <tr>\n",
       "      <th>3</th>\n",
       "      <td>the characters in jonathan lynn's \" the whole ...</td>\n",
       "      <td>negative</td>\n",
       "    </tr>\n",
       "    <tr>\n",
       "      <th>4</th>\n",
       "      <td>vikings v . bears ? \\nno , this isn't the line...</td>\n",
       "      <td>negative</td>\n",
       "    </tr>\n",
       "    <tr>\n",
       "      <th>...</th>\n",
       "      <td>...</td>\n",
       "      <td>...</td>\n",
       "    </tr>\n",
       "    <tr>\n",
       "      <th>1495</th>\n",
       "      <td>trekkies , roger nygard's energetic and hilari...</td>\n",
       "      <td>positive</td>\n",
       "    </tr>\n",
       "    <tr>\n",
       "      <th>1496</th>\n",
       "      <td>\" dangerous beauty \" is a really nothing more...</td>\n",
       "      <td>positive</td>\n",
       "    </tr>\n",
       "    <tr>\n",
       "      <th>1497</th>\n",
       "      <td>starring shawnee smith ; donovan leitch ; rick...</td>\n",
       "      <td>negative</td>\n",
       "    </tr>\n",
       "    <tr>\n",
       "      <th>1498</th>\n",
       "      <td>man , this was one wierd movie . \\nsimilar to ...</td>\n",
       "      <td>negative</td>\n",
       "    </tr>\n",
       "    <tr>\n",
       "      <th>1499</th>\n",
       "      <td>review : ghost dog : the way of the samurai ( ...</td>\n",
       "      <td>positive</td>\n",
       "    </tr>\n",
       "  </tbody>\n",
       "</table>\n",
       "<p>1500 rows × 2 columns</p>\n",
       "</div>"
      ],
      "text/plain": [
       "                                        reviews_content  category\n",
       "0     airplane ! is considered among many to be the ...  positive\n",
       "1     you've got to love disney . \\nno matter what t...  positive\n",
       "2      \" the tailor of panama \" is a different kind ...  positive\n",
       "3     the characters in jonathan lynn's \" the whole ...  negative\n",
       "4     vikings v . bears ? \\nno , this isn't the line...  negative\n",
       "...                                                 ...       ...\n",
       "1495  trekkies , roger nygard's energetic and hilari...  positive\n",
       "1496   \" dangerous beauty \" is a really nothing more...  positive\n",
       "1497  starring shawnee smith ; donovan leitch ; rick...  negative\n",
       "1498  man , this was one wierd movie . \\nsimilar to ...  negative\n",
       "1499  review : ghost dog : the way of the samurai ( ...  positive\n",
       "\n",
       "[1500 rows x 2 columns]"
      ]
     },
     "execution_count": 19,
     "metadata": {},
     "output_type": "execute_result"
    }
   ],
   "source": [
    "df_train = pd.read_csv('train.csv')\n",
    "df_test = pd.read_csv('test.csv')\n",
    "df_train"
   ]
  },
  {
   "cell_type": "code",
   "execution_count": 48,
   "id": "f1264c0b-7288-4114-9040-ca58b646bb4a",
   "metadata": {},
   "outputs": [
    {
     "data": {
      "text/plain": [
       "(1500, 2975578)"
      ]
     },
     "execution_count": 48,
     "metadata": {},
     "output_type": "execute_result"
    }
   ],
   "source": [
    "# TFIDF_Vectorizer = TFIDF(sublinear_tf = True,ngram_range=(1,2), min_df = 3, max_df = 1900)\n",
    "TFIDF_Vectorizer = TFIDF(sublinear_tf= True,ngram_range=(1,5))\n",
    "TFIDF_Vectorizer.fit(df_train['reviews_content'])\n",
    "X_train = TFIDF_Vectorizer.transform(df_train['reviews_content'])\n",
    "y_train = df_train['category']\n",
    "X_test = TFIDF_Vectorizer.transform(df_test['reviews_content'])\n",
    "\n",
    "# TFIDF_Vect = TFIDF(sublinear_tf= True)\n",
    "# TFIDF_Vect.fit(df_train['reviews_content'])\n",
    "# X_train =TFIDF_Vect.transform(df_train['reviews_content '])\n",
    "# y_train =df_train['category']\n",
    "# X_test = TFIDF_Vect.transform(df_test['reviews_content '])\n",
    "X_train.shape\n",
    "# 35177\n",
    "# 430079\n",
    "# 60000\n",
    "# 2975578"
   ]
  },
  {
   "cell_type": "code",
   "execution_count": 45,
   "id": "38b05638-5290-4573-8e60-18d8420df7b7",
   "metadata": {},
   "outputs": [],
   "source": [
    "svm_model = SVC()\n",
    "svm_model.fit(X_train,y_train)\n",
    "y_test = svm_model.predict(X_test)\n",
    "\n"
   ]
  },
  {
   "cell_type": "code",
   "execution_count": 49,
   "id": "1b3f9586-8c60-4ec7-a04f-9390ab79b899",
   "metadata": {},
   "outputs": [
    {
     "data": {
      "text/plain": [
       "array([0.51666667, 0.55      , 0.52      , 0.51333333, 0.52      ])"
      ]
     },
     "execution_count": 49,
     "metadata": {},
     "output_type": "execute_result"
    }
   ],
   "source": [
    "cross_val_score(svm_model,X_train,y_train,cv = 5)"
   ]
  },
  {
   "cell_type": "code",
   "execution_count": 47,
   "id": "72859054-0c31-43a1-89b1-ebf9cfcf67b9",
   "metadata": {},
   "outputs": [],
   "source": [
    "output_file = pd.DataFrame({'Row': range(1,501), 'Label':y_test})\n",
    "output_file.to_csv('SVM_7.csv',index = False)"
   ]
  }
 ],
 "metadata": {
  "kernelspec": {
   "display_name": "Python 3 (ipykernel)",
   "language": "python",
   "name": "python3"
  },
  "language_info": {
   "codemirror_mode": {
    "name": "ipython",
    "version": 3
   },
   "file_extension": ".py",
   "mimetype": "text/x-python",
   "name": "python",
   "nbconvert_exporter": "python",
   "pygments_lexer": "ipython3",
   "version": "3.11.7"
  }
 },
 "nbformat": 4,
 "nbformat_minor": 5
}
