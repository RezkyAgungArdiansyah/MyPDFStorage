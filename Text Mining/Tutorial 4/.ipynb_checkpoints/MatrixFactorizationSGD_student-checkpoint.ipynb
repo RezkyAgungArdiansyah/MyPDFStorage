{
 "cells": [
  {
   "cell_type": "code",
   "execution_count": null,
   "id": "8a09a82c",
   "metadata": {},
   "outputs": [],
   "source": [
    "import pandas as pd\n",
    "from scipy.sparse import csr_matrix\n",
    "\n",
    "data = pd.read_csv('ratings_train.csv')\n",
    "ratings = csr_matrix(\n",
    "    (data.rating.values, (data.user_id.values, data.item_id.values)), \n",
    "    shape=(len(data.user_id.unique()), 1681)\n",
    ").toarray()"
   ]
  },
  {
   "cell_type": "code",
   "execution_count": null,
   "id": "6067513b",
   "metadata": {},
   "outputs": [],
   "source": [
    "def predict(self, u, i):\n",
    "    return self.global_bias+self.user_biases[u]+self.item_biases[i]+self.user_vecs[u]@self.item_vecs[i]\n",
    "\n",
    "def error(self, u, i):\n",
    "    pred_rat = self.predict(u, i)\n",
    "    return self.ratings[u, i] - pred_rat "
   ]
  },
  {
   "cell_type": "code",
   "execution_count": null,
   "id": "2c9ac8d5",
   "metadata": {},
   "outputs": [],
   "source": [
    "def update_biases_and_vectors(self, error, u, i):\n",
    "    # Update biases\n",
    "    self.user_biases[u] += self.l_rate*(error - self.alpha*self.user_biases[u])\n",
    "    self.item_biases[i] += self.l_rate*(error - self.alpha*self.item_biases[i])\n",
    "    # Update User and item Vectors\n",
    "    self.user_vecs[u, :] += self.l_rate*(error*self.item_vecs[i, :] - self.alpha*self.user_vecs[u, :])\n",
    "    self.item_vecs[i, :] += self.l_rate*(error*self.user_vecs[u, :] - self.alpha*self.item_vecs[i, :])"
   ]
  },
  {
   "cell_type": "code",
   "execution_count": null,
   "id": "9ababc1d",
   "metadata": {},
   "outputs": [],
   "source": [
    "import time, numpy as np\n",
    "import matplotlib.pyplot as plt\n",
    "\n",
    "class MatrixFactorization():\n",
    "    \n",
    "    def __init__(self, ratings, n_factors=100, l_rate=0.01, alpha=0.01, n_iter=100):\n",
    "        self.ratings = ratings\n",
    "        self.n_users, self.n_items = ratings.shape\n",
    "        self.non_zero_row_ind, self.non_zero_col_ind = ratings.nonzero()\n",
    "        self.n_interac = len(ratings[np.where(ratings != 0)])\n",
    "        self.ind_lst = list(range(self.n_interac))\n",
    "        self.n_factors = n_factors\n",
    "        self.l_rate = l_rate  # eta0 Constant that multiplies the update term\n",
    "        self.alpha = alpha  # lambda Constant that multiplies the regularization term\n",
    "        self.n_iter = n_iter\n",
    "        self.mse_lst = []\n",
    "        self.wait = 10\n",
    "        self.tol = 1e-3\n",
    "        self.n_iter_no_change = 10\n",
    "        self.verbose = True\n",
    "        self.stop = False\n",
    "        \n",
    "    def initialize(self, ):\n",
    "        self.now = time.time()\n",
    "        # Initialize Bias Values\n",
    "        self.user_biases = np.zeros(self.n_users)\n",
    "        self.item_biases = np.zeros(self.n_items)\n",
    "        # initialize user & item vectors        \n",
    "        self.user_vecs = np.random.normal(scale=1/self.n_factors, size=(self.n_users, self.n_factors))\n",
    "        self.item_vecs = np.random.normal(scale=1/self.n_factors, size=(self.n_items, self.n_factors))\n",
    "        # compute global bias\n",
    "        self.global_bias = np.mean(self.ratings[np.where(self.ratings != 0)])\n",
    "        self.evaluate_the_model(0)\n",
    "        \n",
    "        \n",
    "    def predict(self, u, i):\n",
    "        return self.global_bias+self.user_biases[u]+self.item_biases[i]+self.user_vecs[u]@self.item_vecs[i]\n",
    "        \n",
    "    def update_biases_and_vectors(self, error, u, i):\n",
    "        # Update biases\n",
    "        self.user_biases[u] += self.l_rate*(error - self.alpha*self.user_biases[u])\n",
    "        self.item_biases[i] += self.l_rate*(error - self.alpha*self.item_biases[i])\n",
    "        # Update User and item Vectors\n",
    "        self.user_vecs[u, :] += self.l_rate*(error*self.item_vecs[i, :] - self.alpha*self.user_vecs[u, :])\n",
    "        self.item_vecs[i, :] += self.l_rate*(error*self.user_vecs[u, :] - self.alpha*self.item_vecs[i, :])\n",
    "        \n",
    "    def evaluate_the_model(self, epoch):\n",
    "        tot_square_error = 0\n",
    "        for index in self.ind_lst:\n",
    "            # Extracting user item information indices in which we have a rating\n",
    "            u, i = self.non_zero_row_ind[index], self.non_zero_col_ind[index]\n",
    "            pred_rat = self.predict(u, i)\n",
    "            tot_square_error += (self.ratings[u, i]-pred_rat)**2\n",
    "        mse = tot_square_error/self.n_interac\n",
    "        self.mse_lst.append(mse)\n",
    "        if self.verbose: \n",
    "            print(f\"---> Epoch {epoch}\")\n",
    "            temp = np.round(time.time()-self.now, 3)\n",
    "            print(f\"ave mse {np.round(self.mse_lst[-1], 3)} ===> Total training time: {temp} seconds.\")\n",
    "        \n",
    "    def early_stopping(self, epoch):\n",
    "        if (self.mse_lst[-2] - self.mse_lst[-1]) <= self.tol:\n",
    "            if self.wait == self.n_iter_no_change:\n",
    "                temp = np.round(time.time()-self.now, 3)\n",
    "                if self.verbose: print(f\"Convergence after {epoch} epochs time took: {temp} seconds.\")\n",
    "                self.stop = True\n",
    "                self.conv_epoch_num = epoch\n",
    "            self.wait += 1\n",
    "        else:\n",
    "            self.wait = 0\n",
    "        \n",
    "    def fit(self, ):\n",
    "        self.initialize()\n",
    "        for epoch in range(1, self.n_iter):\n",
    "            np.random.shuffle(self.ind_lst)\n",
    "            if self.stop == False:\n",
    "                for index in self.ind_lst:\n",
    "                    # Extracting user item information indices in which we have a rating\n",
    "                    u, i = self.non_zero_row_ind[index], self.non_zero_col_ind[index]\n",
    "                    pred_rat = self.predict(u, i)\n",
    "                    error = self.ratings[u, i]-pred_rat\n",
    "                    self.update_biases_and_vectors(error, u, i)\n",
    "                self.evaluate_the_model(epoch)\n",
    "                self.early_stopping(epoch)\n",
    "        self.plot_the_score()\n",
    "                \n",
    "    def plot_the_score(self, ):\n",
    "        plt.figure(figsize=(18,6))\n",
    "        plt.plot(range(1, 1+len(self.mse_lst)), self.mse_lst, marker='o')\n",
    "        plt.title(\"SGD Custom Prepared USER & ITEM vector's Tr MSE loss vs epochs\", fontsize=20)\n",
    "        plt.xlabel('Number of epochs', fontsize=18)\n",
    "        plt.ylabel('mean square error', fontsize=18)\n",
    "        plt.xticks(range(1, self.conv_epoch_num+5), fontsize=15, rotation=90)\n",
    "        plt.yticks(np.linspace(min(self.mse_lst), max(self.mse_lst),15), fontsize=15)\n",
    "        plt.grid()\n",
    "        plt.show()"
   ]
  },
  {
   "cell_type": "code",
   "execution_count": null,
   "id": "4fbbb6df",
   "metadata": {},
   "outputs": [],
   "source": [
    "obj = MatrixFactorization(ratings)\n",
    "obj.fit()"
   ]
  }
 ],
 "metadata": {
  "kernelspec": {
   "display_name": "Python [conda env:ghaluh]",
   "language": "python",
   "name": "conda-env-ghaluh-py"
  },
  "language_info": {
   "codemirror_mode": {
    "name": "ipython",
    "version": 3
   },
   "file_extension": ".py",
   "mimetype": "text/x-python",
   "name": "python",
   "nbconvert_exporter": "python",
   "pygments_lexer": "ipython3",
   "version": "3.9.7"
  },
  "varInspector": {
   "cols": {
    "lenName": 16,
    "lenType": 16,
    "lenVar": 40
   },
   "kernels_config": {
    "python": {
     "delete_cmd_postfix": "",
     "delete_cmd_prefix": "del ",
     "library": "var_list.py",
     "varRefreshCmd": "print(var_dic_list())"
    },
    "r": {
     "delete_cmd_postfix": ") ",
     "delete_cmd_prefix": "rm(",
     "library": "var_list.r",
     "varRefreshCmd": "cat(var_dic_list()) "
    }
   },
   "types_to_exclude": [
    "module",
    "function",
    "builtin_function_or_method",
    "instance",
    "_Feature"
   ],
   "window_display": false
  }
 },
 "nbformat": 4,
 "nbformat_minor": 5
}
