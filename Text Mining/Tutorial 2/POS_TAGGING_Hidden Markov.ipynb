{
 "cells": [
  {
   "cell_type": "markdown",
   "id": "a0eaf3e4",
   "metadata": {},
   "source": [
    "# Machine Learning approach Part-of-Speech-Tagging with Hidden Markov Models"
   ]
  },
  {
   "cell_type": "markdown",
   "id": "cf72912b",
   "metadata": {},
   "source": [
    "In this notebook, you'll use the [Pomegranate](https://pomegranate.readthedocs.io/en/latest/) library to build a hidden Markov model for part of speech tagging using a \"universal\" tagset. Hidden Markov models have been able to achieve >96% tag accuracy with larger tagsets on realistic text corpora. Hidden Markov models have also been used for speech recognition and speech generation, machine translation, gene recognition for bioinformatics, and human gesture recognition for computer vision, and more."
   ]
  },
  {
   "cell_type": "markdown",
   "id": "cfbcb7ec",
   "metadata": {},
   "source": [
    "# Library"
   ]
  },
  {
   "cell_type": "raw",
   "id": "902c50bb",
   "metadata": {
    "ExecuteTime": {
     "end_time": "2024-03-04T13:08:16.678829Z",
     "start_time": "2024-03-04T13:08:16.449084Z"
    }
   },
   "source": [
    "# import python modules -- this cell needs to be run again if you make changes to any of the files\n",
    "import matplotlib.pyplot as plt\n",
    "import numpy as np\n",
    "\n",
    "import os\n",
    "import matplotlib.pyplot as plt\n",
    "import matplotlib.image as mplimg\n",
    "import networkx as nx\n",
    "import random\n",
    "\n",
    "from io import BytesIO\n",
    "from itertools import chain\n",
    "from collections import namedtuple, OrderedDict\n",
    "\n",
    "\n",
    "Sentence = namedtuple(\"Sentence\", \"words tags\")\n",
    "\n",
    "\n",
    "from IPython.core.display import HTML\n",
    "from itertools import chain\n",
    "from collections import Counter, defaultdict\n",
    "from pomegranate import State, HiddenMarkovModel, DiscreteDistribution"
   ]
  },
  {
   "cell_type": "markdown",
   "id": "80896bc7",
   "metadata": {},
   "source": [
    "# Pomegranate Installation"
   ]
  },
  {
   "cell_type": "markdown",
   "id": "eeefe520",
   "metadata": {
    "ExecuteTime": {
     "end_time": "2024-03-04T13:08:22.390020Z",
     "start_time": "2024-03-04T13:08:22.388474Z"
    }
   },
   "source": [
    "!conda install -n ghaluh pomegranate -y\n",
    "\n",
    "if you don't have environment, following these options\n",
    "1. Install Pomegranate without Conda: pip install pomegranate\n",
    "2. Create a Conda Environment: \n",
    "#conda create -n my_env python=3.8\n",
    "#conda activate my_env\n",
    "#conda install pomegranate\n",
    "4. Use an Existing Environment: \n",
    "#conda activate existing_env\n",
    "#conda install pomegranate\n",
    "5. Virtual Environments: \n",
    "#python -m venv my_env\n",
    "#source my_env/bin/activate   # On Windows, use `my_env\\Scripts\\activate`\n",
    "#pip install pomegranate"
   ]
  },
  {
   "cell_type": "markdown",
   "id": "c174844e",
   "metadata": {},
   "source": [
    "# Read & preprocess the dataset"
   ]
  },
  {
   "cell_type": "markdown",
   "id": "7bd89657",
   "metadata": {},
   "source": [
    "We'll start by reading in a text corpus and splitting it into a training and testing dataset. The data set is a copy of the [Brown corpus](https://en.wikipedia.org/wiki/Brown_Corpus) (originally from the [NLTK](https://www.nltk.org/) library) that has already been pre-processed to only include the [universal](chrome-extension://efaidnbmnnnibpcajpcglclefindmkaj/https://arxiv.org/pdf/1104.2086.pdf) tagset. You should expect to get slightly higher accuracy using this simplified tagset than the same model would achieve on a larger tagset like the full [Penn treebank](https://www.ling.upenn.edu/courses/Fall_2003/ling001/penn_treebank_pos.html) tagset, but the process you'll follow would be the same.\n",
    "\n",
    "The Dataset class provided in helpers.py will read and parse the corpus. You can generate your own datasets compatible with the reader by writing them to the following format. The dataset is stored in plaintext as a collection of words and corresponding tags. Each sentence starts with a unique identifier on the first line, followed by one tab-separated word/tag pair on each following line. Sentences are separated by a single blank line."
   ]
  },
  {
   "cell_type": "raw",
   "id": "0a6d8c82",
   "metadata": {
    "ExecuteTime": {
     "end_time": "2024-03-04T13:09:04.732226Z",
     "start_time": "2024-03-04T13:09:04.722468Z"
    }
   },
   "source": [
    "def read_data(filename):\n",
    "    \"\"\"Read tagged sentence data\"\"\"\n",
    "    with open(filename, 'r') as f:\n",
    "        sentence_lines = [l.split(\"\\n\") for l in f.read().split(\"\\n\\n\")]\n",
    "    return OrderedDict(((s[0], Sentence(*zip(*[l.strip().split(\"\\t\")\n",
    "                        for l in s[1:]]))) for s in sentence_lines if s[0]))\n",
    "\n",
    "\n",
    "def read_tags(filename):\n",
    "    \"\"\"Read a list of word tag classes\"\"\"\n",
    "    with open(filename, 'r') as f:\n",
    "        tags = f.read().split(\"\\n\")\n",
    "    return frozenset(tags)\n",
    "\n",
    "\n",
    "def model2png(model, filename=\"\", overwrite=False, show_ends=False):\n",
    "    \"\"\"Convert a Pomegranate model into a PNG image\n",
    "\n",
    "    The conversion pipeline extracts the underlying NetworkX graph object,\n",
    "    converts it to a PyDot graph, then writes the PNG data to a bytes array,\n",
    "    which can be saved as a file to disk or imported with matplotlib for display.\n",
    "\n",
    "        Model -> NetworkX.Graph -> PyDot.Graph -> bytes -> PNG\n",
    "\n",
    "    Parameters\n",
    "    ----------\n",
    "    model : Pomegranate.Model\n",
    "        The model object to convert. The model must have an attribute .graph\n",
    "        referencing a NetworkX.Graph instance.\n",
    "\n",
    "    filename : string (optional)\n",
    "        The PNG file will be saved to disk with this filename if one is provided.\n",
    "        By default, the image file will NOT be created if a file with this name\n",
    "        already exists unless overwrite=True.\n",
    "\n",
    "    overwrite : bool (optional)\n",
    "        overwrite=True allows the new PNG to overwrite the specified file if it\n",
    "        already exists\n",
    "\n",
    "    show_ends : bool (optional)\n",
    "        show_ends=True will generate the PNG including the two end states from\n",
    "        the Pomegranate model (which are not usually an explicit part of the graph)\n",
    "    \"\"\"\n",
    "    nodes = model.graph.nodes()\n",
    "    if not show_ends:\n",
    "        nodes = [n for n in nodes if n not in (model.start, model.end)]\n",
    "    g = nx.relabel_nodes(model.graph.subgraph(nodes), {n: n.name for n in model.graph.nodes()})\n",
    "    pydot_graph = nx.drawing.nx_pydot.to_pydot(g)\n",
    "    pydot_graph.set_rankdir(\"LR\")\n",
    "    png_data = pydot_graph.create_png(prog='dot')\n",
    "    img_data = BytesIO()\n",
    "    img_data.write(png_data)\n",
    "    img_data.seek(0)\n",
    "    if filename:\n",
    "        if os.path.exists(filename) and not overwrite:\n",
    "            raise IOError(\"File already exists. Use overwrite=True to replace existing files on disk.\")\n",
    "        with open(filename, 'wb') as f:\n",
    "            f.write(img_data.read())\n",
    "        img_data.seek(0)\n",
    "    return mplimg.imread(img_data)\n",
    "\n",
    "\n",
    "def show_model(model, figsize=(5, 5), **kwargs):\n",
    "    \"\"\"Display a Pomegranate model as an image using matplotlib\n",
    "\n",
    "    Parameters\n",
    "    ----------\n",
    "    model : Pomegranate.Model\n",
    "        The model object to convert. The model must have an attribute .graph\n",
    "        referencing a NetworkX.Graph instance.\n",
    "\n",
    "    figsize : tuple(int, int) (optional)\n",
    "        A tuple specifying the dimensions of a matplotlib Figure that will\n",
    "        display the converted graph\n",
    "\n",
    "    **kwargs : dict\n",
    "        The kwargs dict is passed to the model2png program, see that function\n",
    "        for details\n",
    "    \"\"\"\n",
    "    plt.figure(figsize=figsize)\n",
    "    plt.imshow(model2png(model, **kwargs))\n",
    "    plt.axis('off')\n",
    "\n",
    "\n",
    "class Subset(namedtuple(\"BaseSet\", \"sentences keys vocab X tagset Y N stream\")):\n",
    "    def __new__(cls, sentences, keys):\n",
    "        word_sequences = tuple([sentences[k].words for k in keys])\n",
    "        tag_sequences = tuple([sentences[k].tags for k in keys])\n",
    "        wordset = frozenset(chain(*word_sequences))\n",
    "        tagset = frozenset(chain(*tag_sequences))\n",
    "        N = sum(1 for _ in chain(*(sentences[k].words for k in keys)))\n",
    "        stream = tuple(zip(chain(*word_sequences), chain(*tag_sequences)))\n",
    "        return super().__new__(cls, {k: sentences[k] for k in keys}, keys, wordset, word_sequences,\n",
    "                               tagset, tag_sequences, N, stream.__iter__)\n",
    "\n",
    "    def __len__(self):\n",
    "        return len(self.sentences)\n",
    "\n",
    "    def __iter__(self):\n",
    "        return iter(self.sentences.items())\n",
    "\n",
    "\n",
    "class Dataset(namedtuple(\"_Dataset\", \"sentences keys vocab X tagset Y training_set testing_set N stream\")):\n",
    "    def __new__(cls, tagfile, datafile, train_test_split=0.8, seed=112890):\n",
    "        tagset = read_tags(tagfile)\n",
    "        sentences = read_data(datafile)\n",
    "        keys = tuple(sentences.keys())\n",
    "        wordset = frozenset(chain(*[s.words for s in sentences.values()]))\n",
    "        word_sequences = tuple([sentences[k].words for k in keys])\n",
    "        tag_sequences = tuple([sentences[k].tags for k in keys])\n",
    "        N = sum(1 for _ in chain(*(s.words for s in sentences.values())))\n",
    "        \n",
    "        # split data into train/test sets\n",
    "        _keys = list(keys)\n",
    "        if seed is not None: random.seed(seed)\n",
    "        random.shuffle(_keys)\n",
    "        split = int(train_test_split * len(_keys))\n",
    "        training_data = Subset(sentences, _keys[:split])\n",
    "        testing_data = Subset(sentences, _keys[split:])\n",
    "        stream = tuple(zip(chain(*word_sequences), chain(*tag_sequences)))\n",
    "        return super().__new__(cls, dict(sentences), keys, wordset, word_sequences, tagset,\n",
    "                               tag_sequences, training_data, testing_data, N, stream.__iter__)\n",
    "\n",
    "    def __len__(self):\n",
    "        return len(self.sentences)\n",
    "\n",
    "    def __iter__(self):\n",
    "        return iter(self.sentences.items())"
   ]
  },
  {
   "cell_type": "raw",
   "id": "eb3983c1",
   "metadata": {
    "ExecuteTime": {
     "end_time": "2024-03-04T13:09:35.875880Z",
     "start_time": "2024-03-04T13:09:34.691890Z"
    }
   },
   "source": [
    "data = Dataset(\"tags-universal.txt\", \"brown-universal.txt\", train_test_split=0.8)\n",
    "\n",
    "print(\"There are {} sentences in the corpus.\".format(len(data)))\n",
    "print(\"There are {} sentences in the training set.\".format(len(data.training_set)))\n",
    "print(\"There are {} sentences in the testing set.\".format(len(data.testing_set)))\n",
    "\n",
    "assert len(data) == len(data.training_set) + len(data.testing_set), \\\n",
    "       \"The number of sentences in the training set + testing set should sum to the number of sentences in the corpus\""
   ]
  },
  {
   "cell_type": "markdown",
   "id": "f10f7c67",
   "metadata": {},
   "source": [
    "Sentences"
   ]
  },
  {
   "cell_type": "markdown",
   "id": "bfcd299f",
   "metadata": {},
   "source": [
    "`Dataset.sentences` is a dictionary of all sentences in the training corpus, each keyed to a unique sentence identifier. Each Sentence is itself an object with two attributes: a tuple of the words in the sentence named words and a tuple of the tag corresponding to each word named tags."
   ]
  },
  {
   "cell_type": "raw",
   "id": "207d90cd",
   "metadata": {
    "ExecuteTime": {
     "end_time": "2024-03-04T13:10:19.356630Z",
     "start_time": "2024-03-04T13:10:19.354173Z"
    }
   },
   "source": [
    "key = 'b100-38532'\n",
    "print(\"Sentence: {}\".format(key))\n",
    "print(\"words:\\n\\t{!s}\".format(data.sentences[key].words))\n",
    "print(\"tags:\\n\\t{!s}\".format(data.sentences[key].tags))"
   ]
  },
  {
   "cell_type": "markdown",
   "id": "882566bb",
   "metadata": {},
   "source": [
    "**Note:** The underlying iterable sequence is **unordered** over the sentences in the corpus; it is not guaranteed to return the sentences in a consistent order between calls. Use `Dataset.stream()`, `Dataset.keys`, `Dataset.X`, or `Dataset.Y` attributes if you need ordered access to the data."
   ]
  },
  {
   "cell_type": "markdown",
   "id": "12b0e1ac",
   "metadata": {},
   "source": [
    "Counting Unique Elements"
   ]
  },
  {
   "cell_type": "markdown",
   "id": "ce405456",
   "metadata": {},
   "source": [
    "You can access the list of unique words (the dataset vocabulary) via Dataset.vocab and the unique list of tags via Dataset.tagset."
   ]
  },
  {
   "cell_type": "raw",
   "id": "16d822a4",
   "metadata": {
    "ExecuteTime": {
     "end_time": "2024-03-04T13:10:48.087741Z",
     "start_time": "2024-03-04T13:10:48.082442Z"
    }
   },
   "source": [
    "print(\"There are a total of {} samples of {} unique words in the corpus.\"\n",
    "      .format(data.N, len(data.vocab)))\n",
    "print(\"There are {} samples of {} unique words in the training set.\"\n",
    "      .format(data.training_set.N, len(data.training_set.vocab)))\n",
    "print(\"There are {} samples of {} unique words in the testing set.\"\n",
    "      .format(data.testing_set.N, len(data.testing_set.vocab)))\n",
    "print(\"There are {} words in the test set that are missing in the training set.\"\n",
    "      .format(len(data.testing_set.vocab - data.training_set.vocab)))\n",
    "\n",
    "assert data.N == data.training_set.N + data.testing_set.N, \\\n",
    "       \"The number of training + test samples should sum to the total number of samples\""
   ]
  },
  {
   "cell_type": "markdown",
   "id": "55825d1e",
   "metadata": {},
   "source": [
    "Accessing word and tag Sequences"
   ]
  },
  {
   "cell_type": "markdown",
   "id": "b95c2f87",
   "metadata": {},
   "source": [
    "The Dataset.X and Dataset.Y attributes provide access to ordered collections of matching word and tag sequences for each sentence in the dataset."
   ]
  },
  {
   "cell_type": "raw",
   "id": "55b227f8",
   "metadata": {
    "ExecuteTime": {
     "end_time": "2024-03-04T13:11:20.708791Z",
     "start_time": "2024-03-04T13:11:20.706226Z"
    }
   },
   "source": [
    "# accessing words with Dataset.X and tags with Dataset.Y \n",
    "for i in range(2):    \n",
    "    print(\"Sentence {}:\".format(i + 1), data.X[i])\n",
    "    print()\n",
    "    print(\"Labels {}:\".format(i + 1), data.Y[i])\n",
    "    print()"
   ]
  },
  {
   "cell_type": "markdown",
   "id": "ab6637f5",
   "metadata": {},
   "source": [
    "Accessing (word, tag) Samples"
   ]
  },
  {
   "cell_type": "markdown",
   "id": "b5ef2361",
   "metadata": {},
   "source": [
    "The Dataset.stream() method returns an iterator that chains together every pair of (word, tag) entries across all sentences in the entire corpus."
   ]
  },
  {
   "cell_type": "raw",
   "id": "dab9ecea",
   "metadata": {
    "ExecuteTime": {
     "end_time": "2024-03-04T13:11:44.250255Z",
     "start_time": "2024-03-04T13:11:44.247572Z"
    }
   },
   "source": [
    "# use Dataset.stream() (word, tag) samples for the entire corpus\n",
    "print(\"\\nStream (word, tag) pairs:\\n\")\n",
    "for i, pair in enumerate(data.stream()):\n",
    "    print(\"\\t\", pair)\n",
    "    if i > 5: break"
   ]
  },
  {
   "cell_type": "markdown",
   "id": "2b4bca89",
   "metadata": {},
   "source": [
    "For both our baseline tagger and the HMM model we'll build, we need to estimate the frequency of tags & words from the frequency counts of observations in the training corpus. In the next several cells you will complete functions to compute the counts of several sets of counts."
   ]
  },
  {
   "cell_type": "markdown",
   "id": "2bbbb11a",
   "metadata": {},
   "source": [
    "# Build a Most Frequent Class tagger"
   ]
  },
  {
   "cell_type": "markdown",
   "id": "0d740bba",
   "metadata": {},
   "source": [
    "Perhaps the simplest tagger (and a good baseline for tagger performance) is to simply choose the tag most frequently assigned to each word. This \"most frequent class\" tagger inspects each observed word in the sequence and assigns it the label that was most often assigned to that word in the corpus."
   ]
  },
  {
   "cell_type": "markdown",
   "id": "e56ea3b9",
   "metadata": {},
   "source": [
    "IMPLEMENTATION: Pair Counts"
   ]
  },
  {
   "cell_type": "markdown",
   "id": "36c7f797",
   "metadata": {},
   "source": [
    "Complete the function below that computes the joint frequency counts for two input sequences."
   ]
  },
  {
   "cell_type": "raw",
   "id": "53367d47",
   "metadata": {
    "ExecuteTime": {
     "end_time": "2024-03-04T13:12:11.054750Z",
     "start_time": "2024-03-04T13:12:10.859906Z"
    }
   },
   "source": [
    "def pair_counts(sequences_A, sequences_B):\n",
    "    \"\"\"Return a dictionary keyed to each unique value in the first sequence list\n",
    "    that counts the number of occurrences of the corresponding value from the\n",
    "    second sequences list.\n",
    "    \n",
    "    For example, if sequences_A is tags and sequences_B is the corresponding\n",
    "    words, then if 1244 sequences contain the word \"time\" tagged as a NOUN, then\n",
    "    you should return a dictionary such that pair_counts[NOUN][time] == 1244\n",
    "    \"\"\"\n",
    "    dic = defaultdict(Counter)\n",
    "    for a in range(len(sequences_A)):\n",
    "        for key, value in zip(sequences_A[a], sequences_B[a]):\n",
    "            dic[key][value] += 1\n",
    "    return(dic)\n",
    "    raise NotImplementedError\n",
    "\n",
    "\n",
    "# Calculate C(t_i, w_i)\n",
    "emission_counts = pair_counts(data.training_set.Y, data.training_set.X)\n",
    "\n",
    "assert len(emission_counts) == 12, \\\n",
    "       \"Uh oh. There should be 12 tags in your dictionary.\"\n",
    "assert max(emission_counts[\"NOUN\"], key=emission_counts[\"NOUN\"].get) == 'time', \\\n",
    "       \"Hmmm...'time' is expected to be the most common NOUN.\"\n",
    "HTML('<div class=\"alert alert-block alert-success\">Your emission counts look good!</div>')"
   ]
  },
  {
   "cell_type": "markdown",
   "id": "a2cb11b2",
   "metadata": {},
   "source": [
    "IMPLEMENTATION: Most Frequent Class Tagger"
   ]
  },
  {
   "cell_type": "markdown",
   "id": "790d266f",
   "metadata": {},
   "source": [
    "Use the pair_counts() function and the training dataset to find the most frequent class label for each word in the training data, and populate the mfc_table below. The table keys should be words, and the values should be the appropriate tag string.\n",
    "\n",
    "The MFCTagger class is provided to mock the interface of Pomegranite HMM models so that they can be used interchangeably."
   ]
  },
  {
   "cell_type": "raw",
   "id": "863a931b",
   "metadata": {
    "ExecuteTime": {
     "end_time": "2024-03-04T13:12:39.056974Z",
     "start_time": "2024-03-04T13:12:38.708520Z"
    }
   },
   "source": [
    "# Create a lookup table mfc_table where mfc_table[word] contains the tag label most frequently assigned to that word\n",
    "from collections import namedtuple\n",
    "\n",
    "FakeState = namedtuple(\"FakeState\", \"name\")\n",
    "\n",
    "class MFCTagger:\n",
    "    missing = FakeState(name=\"<MISSING>\")\n",
    "    \n",
    "    def __init__(self, table):\n",
    "        self.table = defaultdict(lambda: MFCTagger.missing)\n",
    "        self.table.update({word: FakeState(name=tag) for word, tag in table.items()})\n",
    "        \n",
    "    def viterbi(self, seq):\n",
    "        \"\"\"This method simplifies predictions by matching the Pomegranate viterbi() interface\"\"\"\n",
    "        return 0., list(enumerate([\"<start>\"] + [self.table[w] for w in seq] + [\"<end>\"]))\n",
    "\n",
    "\n",
    "# calculate the frequency of each tag being assigned to each word (hint: similar, but not\n",
    "# the same as the emission probabilities) and use it to fill the mfc_table\n",
    "\n",
    "word_counts = pair_counts(data.training_set.X, data.training_set.Y)\n",
    "\n",
    "mfc_table = dict()\n",
    "for word, tags in word_counts.items():\n",
    "    mfc_table[word] = max(tags.keys(), key= lambda key: tags[key])\n",
    "\n",
    "mfc_model = MFCTagger(mfc_table) # Create a Most Frequent Class tagger instance\n",
    "\n",
    "assert len(mfc_table) == len(data.training_set.vocab), \"\"\n",
    "assert all(k in data.training_set.vocab for k in mfc_table.keys()), \"\"\n",
    "assert sum(int(k not in mfc_table) for k in data.testing_set.vocab) == 5521, \"\"\n",
    "HTML('<div class=\"alert alert-block alert-success\">Your MFC tagger has all the correct words!</div>')"
   ]
  },
  {
   "cell_type": "markdown",
   "id": "42a2bf1e",
   "metadata": {},
   "source": [
    "# Making Predictions with a Model"
   ]
  },
  {
   "cell_type": "markdown",
   "id": "20f33572",
   "metadata": {},
   "source": [
    "The helper functions provided below interface with Pomegranate network models & the mocked MFCTagger to take advantage of the [missing value](https://pomegranate.readthedocs.io/en/latest/nan.html) functionality in Pomegranate through a simple sequence decoding function. Run these functions, then run the next cell to see some of the predictions made by the MFC tagger."
   ]
  },
  {
   "cell_type": "raw",
   "id": "945a14a8",
   "metadata": {
    "ExecuteTime": {
     "end_time": "2024-03-04T13:13:01.608891Z",
     "start_time": "2024-03-04T13:13:01.606384Z"
    }
   },
   "source": [
    "def replace_unknown(sequence):\n",
    "    \"\"\"Return a copy of the input sequence where each unknown word is replaced\n",
    "    by the literal string value 'nan'. Pomegranate will ignore these values\n",
    "    during computation.\n",
    "    \"\"\"\n",
    "    return [w if w in data.training_set.vocab else 'nan' for w in sequence]\n",
    "\n",
    "def simplify_decoding(X, model):\n",
    "    \"\"\"X should be a 1-D sequence of observations for the model to predict\"\"\"\n",
    "    _, state_path = model.viterbi(replace_unknown(X))\n",
    "    return [state[1].name for state in state_path[1:-1]]  # do not show the start/end state predictions"
   ]
  },
  {
   "cell_type": "markdown",
   "id": "9bd3feb5",
   "metadata": {},
   "source": [
    "# Example Decoding Sequences with MFC Tagger"
   ]
  },
  {
   "cell_type": "raw",
   "id": "bbeb1130",
   "metadata": {
    "ExecuteTime": {
     "end_time": "2024-03-04T13:13:11.727417Z",
     "start_time": "2024-03-04T13:13:11.724244Z"
    }
   },
   "source": [
    "for key in data.testing_set.keys[:3]:\n",
    "    print(\"Sentence Key: {}\\n\".format(key))\n",
    "    print(\"Predicted labels:\\n-----------------\")\n",
    "    print(simplify_decoding(data.sentences[key].words, mfc_model))\n",
    "    print()\n",
    "    print(\"Actual labels:\\n--------------\")\n",
    "    print(data.sentences[key].tags)\n",
    "    print(\"\\n\")"
   ]
  },
  {
   "cell_type": "markdown",
   "id": "b0801b33",
   "metadata": {},
   "source": [
    "# Evaluating Model Accuracy"
   ]
  },
  {
   "cell_type": "markdown",
   "id": "0f520822",
   "metadata": {},
   "source": [
    "The function below will evaluate the accuracy of the MFC tagger on the collection of all sentences from a text corpus."
   ]
  },
  {
   "cell_type": "raw",
   "id": "50f2079f",
   "metadata": {
    "ExecuteTime": {
     "end_time": "2024-03-04T13:13:29.360402Z",
     "start_time": "2024-03-04T13:13:29.357560Z"
    }
   },
   "source": [
    "def accuracy(X, Y, model):\n",
    "    \"\"\"Calculate the prediction accuracy by using the model to decode each sequence\n",
    "    in the input X and comparing the prediction with the true labels in Y.\n",
    "    \n",
    "    The X should be an array whose first dimension is the number of sentences to test,\n",
    "    and each element of the array should be an iterable of the words in the sequence.\n",
    "    The arrays X and Y should have the exact same shape.\n",
    "    \n",
    "    X = [(\"See\", \"Spot\", \"run\"), (\"Run\", \"Spot\", \"run\", \"fast\"), ...]\n",
    "    Y = [(), (), ...]\n",
    "    \"\"\"\n",
    "    correct = total_predictions = 0\n",
    "    for observations, actual_tags in zip(X, Y):\n",
    "        \n",
    "        # The model.viterbi call in simplify_decoding will return None if the HMM\n",
    "        # raises an error (for example, if a test sentence contains a word that\n",
    "        # is out of vocabulary for the training set). Any exception counts the\n",
    "        # full sentence as an error (which makes this a conservative estimate).\n",
    "        try:\n",
    "            most_likely_tags = simplify_decoding(observations, model)\n",
    "            correct += sum(p == t for p, t in zip(most_likely_tags, actual_tags))\n",
    "        except:\n",
    "            pass\n",
    "        total_predictions += len(observations)\n",
    "    return correct / total_predictions"
   ]
  },
  {
   "cell_type": "markdown",
   "id": "9990f6e7",
   "metadata": {},
   "source": [
    "# Evaluate the accuracy of the MFC tagger"
   ]
  },
  {
   "cell_type": "markdown",
   "id": "5366eacf",
   "metadata": {},
   "source": [
    "Run the next cell to evaluate the accuracy of the tagger on the training and test corpus."
   ]
  },
  {
   "cell_type": "raw",
   "id": "8b74d4d9",
   "metadata": {
    "ExecuteTime": {
     "end_time": "2024-03-04T13:13:41.921463Z",
     "start_time": "2024-03-04T13:13:41.527749Z"
    }
   },
   "source": [
    "mfc_training_acc = accuracy(data.training_set.X, data.training_set.Y, mfc_model)\n",
    "print(\"training accuracy mfc_model: {:.2f}%\".format(100 * mfc_training_acc))\n",
    "\n",
    "mfc_testing_acc = accuracy(data.testing_set.X, data.testing_set.Y, mfc_model)\n",
    "print(\"testing accuracy mfc_model: {:.2f}%\".format(100 * mfc_testing_acc))\n",
    "\n",
    "assert mfc_training_acc >= 0.955, \"Uh oh. Your MFC accuracy on the training set doesn't look right.\"\n",
    "assert mfc_testing_acc >= 0.925, \"Uh oh. Your MFC accuracy on the testing set doesn't look right.\"\n",
    "HTML('<div class=\"alert alert-block alert-success\">Your MFC tagger accuracy looks correct!</div>')"
   ]
  },
  {
   "cell_type": "markdown",
   "id": "49041a36",
   "metadata": {},
   "source": [
    "# Build an HMM tagger"
   ]
  },
  {
   "cell_type": "markdown",
   "id": "733d58d9",
   "metadata": {},
   "source": [
    "The HMM tagger has one hidden state for each possible tag, and parameterized by two distributions: the emission probabilties giving the conditional probability of observing a given word from each hidden state, and the transition probabilities giving the conditional probability of moving between tags during the sequence.\n",
    "\n",
    "We will also estimate the starting probability distribution (the probability of each tag being the first tag in a sequence), and the terminal probability distribution (the probability of each tag being the last tag in a sequence).\n",
    "\n",
    "The maximum likelihood estimate of these distributions can be calculated from the frequency counts as described in the following sections where you'll implement functions to count the frequencies, and finally build the model. The HMM model will make predictions according to the formula:\n",
    "\n",
    "$$t^n_i=argmax_{t^n_i}∏^n_{i=1} P(w_i|t_i)P(t_i|t_{i−1})$$\n",
    " \n",
    "Refer to Speech & Language Processing [Chapter 10](chrome-extension://efaidnbmnnnibpcajpcglclefindmkaj/https://web.stanford.edu/~jurafsky/slp3/10.pdf) for more information."
   ]
  },
  {
   "cell_type": "markdown",
   "id": "b6be5098",
   "metadata": {},
   "source": [
    "# IMPLEMENTATION: Unigram Counts"
   ]
  },
  {
   "cell_type": "markdown",
   "id": "ec2a260c",
   "metadata": {},
   "source": [
    "Complete the function below to estimate the co-occurrence frequency of each symbol over all of the input sequences. The unigram probabilities in our HMM model are estimated from the formula below, where N is the total number of samples in the input. (You only need to compute the counts for now.)\n",
    "$$P(tag_1)=\\frac{C(tag_1)}{N}$$"
   ]
  },
  {
   "cell_type": "raw",
   "id": "406e708f",
   "metadata": {
    "ExecuteTime": {
     "end_time": "2024-03-04T13:13:59.988790Z",
     "start_time": "2024-03-04T13:13:59.898145Z"
    }
   },
   "source": [
    "def unigram_counts(sequences):\n",
    "    \"\"\"Return a dictionary keyed to each unique value in the input sequence list that\n",
    "    counts the number of occurrences of the value in the sequences list. The sequences\n",
    "    collection should be a 2-dimensional array.\n",
    "    \n",
    "    For example, if the tag NOUN appears 275558 times over all the input sequences,\n",
    "    then you should return a dictionary such that your_unigram_counts[NOUN] == 275558.\n",
    "    \"\"\"\n",
    "    unicount = dict()\n",
    "    for count, sentence in enumerate(sequences):\n",
    "        for a, b in enumerate(sentence):\n",
    "            if b in unicount:\n",
    "                unicount[b] += 1\n",
    "            else:\n",
    "                unicount[b] = 1\n",
    "    return unicount\n",
    "    \n",
    "# call unigram_counts with a list of tag sequences from the training set\n",
    "tag_unigrams = unigram_counts(data.training_set.Y)\n",
    "\n",
    "assert set(tag_unigrams.keys()) == data.training_set.tagset, \\\n",
    "       \"Uh oh. It looks like your tag counts doesn't include all the tags!\"\n",
    "assert min(tag_unigrams, key=tag_unigrams.get) == 'X', \\\n",
    "       \"Hmmm...'X' is expected to be the least common class\"\n",
    "assert max(tag_unigrams, key=tag_unigrams.get) == 'NOUN', \\\n",
    "       \"Hmmm...'NOUN' is expected to be the most common class\"\n",
    "HTML('<div class=\"alert alert-block alert-success\">Your tag unigrams look good!</div>')"
   ]
  },
  {
   "cell_type": "markdown",
   "id": "6f42d39d",
   "metadata": {},
   "source": [
    "# IMPLEMENTATION: Bigram Counts"
   ]
  },
  {
   "cell_type": "markdown",
   "id": "1375e139",
   "metadata": {},
   "source": [
    "Complete the function below to estimate the co-occurrence frequency of each pair of symbols in each of the input sequences. These counts are used in the HMM model to estimate the bigram probability of two tags from the frequency counts according to the formula:\n",
    "$$P(tag_2|tag_1)=\\frac{C(tag_2|tag_1)}{C(tag_2)}$$"
   ]
  },
  {
   "cell_type": "raw",
   "id": "c4be9bf4",
   "metadata": {
    "ExecuteTime": {
     "end_time": "2024-03-04T13:14:17.311604Z",
     "start_time": "2024-03-04T13:14:17.052324Z"
    }
   },
   "source": [
    "def bigram_counts(sequences):\n",
    "    \"\"\"Return a dictionary keyed to each unique PAIR of values in the input sequences\n",
    "    list that counts the number of occurrences of pair in the sequences list. The input\n",
    "    should be a 2-dimensional array.\n",
    "    \n",
    "    For example, if the pair of tags (NOUN, VERB) appear 61582 times, then you should\n",
    "    return a dictionary such that your_bigram_counts[(NOUN, VERB)] == 61582\n",
    "    \"\"\"\n",
    "    dictionary = {}\n",
    "    for s in sequences:\n",
    "        for a in range(0, len(s)-1):\n",
    "            if (s[a], s[a+1]) not in dictionary.keys(): \n",
    "                dictionary[(s[a], s[a+1])] = 0 \n",
    "            else:\n",
    "                dictionary[(s[a], s[a+1])] +=1 \n",
    "    return dictionary\n",
    "    raise NotImplementedError\n",
    "\n",
    "# call bigram_counts with a list of tag sequences from the training set\n",
    "tag_bigrams = bigram_counts(data.training_set.Y)\n",
    "\n",
    "assert len(tag_bigrams) == 144, \\\n",
    "       \"Uh oh. There should be 144 pairs of bigrams (12 tags x 12 tags)\"\n",
    "assert min(tag_bigrams, key=tag_bigrams.get) in [('X', 'NUM'), ('PRON', 'X')], \\\n",
    "       \"Hmmm...The least common bigram should be one of ('X', 'NUM') or ('PRON', 'X').\"\n",
    "assert max(tag_bigrams, key=tag_bigrams.get) in [('DET', 'NOUN')], \\\n",
    "       \"Hmmm...('DET', 'NOUN') is expected to be the most common bigram.\"\n",
    "HTML('<div class=\"alert alert-block alert-success\">Your tag bigrams look good!</div>')"
   ]
  },
  {
   "cell_type": "markdown",
   "id": "96355f31",
   "metadata": {},
   "source": [
    "# IMPLEMENTATION: Sequence Starting Counts"
   ]
  },
  {
   "cell_type": "markdown",
   "id": "eb8f5cb3",
   "metadata": {},
   "source": [
    "Complete the code below to estimate the bigram probabilities of a sequence starting with each tag."
   ]
  },
  {
   "cell_type": "raw",
   "id": "68227ffd",
   "metadata": {
    "ExecuteTime": {
     "end_time": "2024-03-04T13:14:29.999984Z",
     "start_time": "2024-03-04T13:14:29.985948Z"
    }
   },
   "source": [
    "def starting_counts(sequences):\n",
    "    \"\"\"Return a dictionary keyed to each unique value in the input sequences list\n",
    "    that counts the number of occurrences where that value is at the beginning of\n",
    "    a sequence.\n",
    "    \n",
    "    For example, if 8093 sequences start with NOUN, then you should return a\n",
    "    dictionary such that your_starting_counts[NOUN] == 8093\n",
    "    \"\"\"\n",
    "    return(dict(Counter([s[0] for s in sequences])))\n",
    "    raise NotImplementedError\n",
    "\n",
    "# Calculate the count of each tag starting a sequence\n",
    "tag_starts = starting_counts(data.training_set.Y)\n",
    "\n",
    "assert len(tag_starts) == 12, \"Uh oh. There should be 12 tags in your dictionary.\"\n",
    "assert min(tag_starts, key=tag_starts.get) == 'X', \"Hmmm...'X' is expected to be the least common starting bigram.\"\n",
    "assert max(tag_starts, key=tag_starts.get) == 'DET', \"Hmmm...'DET' is expected to be the most common starting bigram.\"\n",
    "HTML('<div class=\"alert alert-block alert-success\">Your starting tag counts look good!</div>')"
   ]
  },
  {
   "cell_type": "markdown",
   "id": "5785e453",
   "metadata": {},
   "source": [
    "# IMPLEMENTATION: Sequence Ending Counts"
   ]
  },
  {
   "cell_type": "markdown",
   "id": "c6e7c557",
   "metadata": {},
   "source": [
    "Complete the function below to estimate the bigram probabilities of a sequence ending with each tag."
   ]
  },
  {
   "cell_type": "raw",
   "id": "0487b782",
   "metadata": {
    "ExecuteTime": {
     "end_time": "2024-03-04T13:14:44.177167Z",
     "start_time": "2024-03-04T13:14:44.168586Z"
    }
   },
   "source": [
    "def ending_counts(sequences):\n",
    "    \"\"\"Return a dictionary keyed to each unique value in the input sequences list\n",
    "    that counts the number of occurrences where that value is at the end of\n",
    "    a sequence.\n",
    "    \n",
    "    For example, if 18 sequences end with DET, then you should return a\n",
    "    dictionary such that your_starting_counts[DET] == 18\n",
    "    \"\"\"\n",
    "    return(dict(Counter([s[-1] for s in sequences])))\n",
    "    raise NotImplementedError\n",
    "\n",
    "# Calculate the count of each tag ending a sequence\n",
    "tag_ends = ending_counts(data.training_set.Y)\n",
    "\n",
    "assert len(tag_ends) == 12, \"Uh oh. There should be 12 tags in your dictionary.\"\n",
    "assert min(tag_ends, key=tag_ends.get) in ['X', 'CONJ'], \"Hmmm...'X' or 'CONJ' should be the least common ending bigram.\"\n",
    "assert max(tag_ends, key=tag_ends.get) == '.', \"Hmmm...'.' is expected to be the most common ending bigram.\"\n",
    "HTML('<div class=\"alert alert-block alert-success\">Your ending tag counts look good!</div>')"
   ]
  },
  {
   "cell_type": "markdown",
   "id": "722c10a8",
   "metadata": {},
   "source": [
    "# IMPLEMENTATION: Basic HMM Tagger"
   ]
  },
  {
   "cell_type": "markdown",
   "id": "cb26c655",
   "metadata": {},
   "source": [
    "Use the tag unigrams and bigrams calculated above to construct a hidden Markov tagger.\n",
    "\n",
    "Add one state per tag:\n",
    "The emission distribution at each state should be estimated with the formula:  $$P(w|t)=\\frac{C(t,w)}{C(t)}$$\n",
    " \n",
    "Add an edge from the starting state basic_model.start to each tag:\n",
    "The transition probability should be estimated with the formula:  $$P(t|start)=\\frac{C(start,t)}{C(start)}$$\n",
    " \n",
    "Add an edge from each tag to the end state basic_model.end:\n",
    "The transition probability should be estimated with the formula:  $$P(end|t)=\\frac{C(t,end)}{C(t)}$$\n",
    " \n",
    "Add an edge between every pair of tags:\n",
    "The transition probability should be estimated with the formula:  $$P(t_2|t_1)=\\frac{C(t1,t2)}{C(t1)}$$"
   ]
  },
  {
   "cell_type": "raw",
   "id": "4728b3f0",
   "metadata": {
    "ExecuteTime": {
     "end_time": "2024-03-04T13:15:00.360639Z",
     "start_time": "2024-03-04T13:15:00.244781Z"
    }
   },
   "source": [
    "basic_model = HiddenMarkovModel(name=\"base-hmm-tagger\")\n",
    "\"\"\"\n",
    "create states with emission probability distributions P(word | tag) and add to the model\n",
    "(Hint: you may need to loop & create/add new states)\n",
    "\"\"\"\n",
    "state = dict()\n",
    "for tag in emission_counts:\n",
    "    prob_dct = {}\n",
    "    total = tag_unigrams[tag]\n",
    "    prob_dist = {key: value / total for key, value in emission_counts[tag].items()}\n",
    "    \n",
    "    tag_distribution = DiscreteDistribution(prob_dist)\n",
    "    temp_state = State(tag_distribution, name=tag)\n",
    "    state[tag] = temp_state\n",
    "    \n",
    "    basic_model.add_state(state[tag])\n",
    "    \n",
    "for bigram in tag_bigrams.keys():\n",
    "    \n",
    "    len_data_y = len(data.training_set.Y)\n",
    "    b0 = bigram[0]\n",
    "    b1 = bigram[1]\n",
    "    \n",
    "    prob =  tag_starts[b0] / len_data_y\n",
    "    basic_model.add_transition(basic_model.start, state[b0], prob)\n",
    "    \n",
    "    prob = tag_bigrams[bigram] / tag_unigrams[b0] \n",
    "    basic_model.add_transition(state[b0], state[b1], prob)\n",
    "    \n",
    "\n",
    "    prob = tag_ends[b0] / len_data_y\n",
    "    basic_model.add_transition(state[b0], basic_model.end, prob)\n",
    "\n",
    "# finalize the model\n",
    "basic_model.bake()\n",
    "\n",
    "assert all(tag in set(s.name for s in basic_model.states) for tag in data.training_set.tagset), \\\n",
    "       \"Every state in your network should use the name of the associated tag, which must be one of the training set tags.\"\n",
    "assert basic_model.edge_count() == 168, \\\n",
    "       (\"Your network should have an edge from the start node to each state, one edge between every \" +\n",
    "        \"pair of tags (states), and an edge from each state to the end node.\")\n",
    "HTML('<div class=\"alert alert-block alert-success\">Your HMM network topology looks good!</div>')"
   ]
  },
  {
   "cell_type": "raw",
   "id": "a9087f1d",
   "metadata": {
    "ExecuteTime": {
     "end_time": "2024-03-04T13:15:11.872123Z",
     "start_time": "2024-03-04T13:15:11.007436Z"
    }
   },
   "source": [
    "hmm_training_acc = accuracy(data.training_set.X, data.training_set.Y, basic_model)\n",
    "print(\"training accuracy basic hmm model: {:.2f}%\".format(100 * hmm_training_acc))\n",
    "\n",
    "hmm_testing_acc = accuracy(data.testing_set.X, data.testing_set.Y, basic_model)\n",
    "print(\"testing accuracy basic hmm model: {:.2f}%\".format(100 * hmm_testing_acc))\n",
    "\n",
    "assert hmm_training_acc > 0.97, \"Uh oh. Your HMM accuracy on the training set doesn't look right.\"\n",
    "assert hmm_testing_acc > 0.955, \"Uh oh. Your HMM accuracy on the testing set doesn't look right.\"\n",
    "HTML('<div class=\"alert alert-block alert-success\">Your HMM tagger accuracy looks correct! Congratulations, you\\'ve finished the project.</div>')"
   ]
  },
  {
   "cell_type": "markdown",
   "id": "d9a5a84d",
   "metadata": {},
   "source": [
    "# Example Decoding Sequences with the HMM Tagger"
   ]
  },
  {
   "cell_type": "raw",
   "id": "4b652a68",
   "metadata": {
    "ExecuteTime": {
     "end_time": "2024-03-04T13:15:39.404733Z",
     "start_time": "2024-03-04T13:15:39.401933Z"
    }
   },
   "source": [
    "for key in data.testing_set.keys[:3]:\n",
    "    print(\"Sentence Key: {}\\n\".format(key))\n",
    "    print(\"Predicted labels:\\n-----------------\")\n",
    "    print(simplify_decoding(data.sentences[key].words, basic_model))\n",
    "    print()\n",
    "    print(\"Actual labels:\\n--------------\")\n",
    "    print(data.sentences[key].tags)\n",
    "    print(\"\\n\")"
   ]
  }
 ],
 "metadata": {
  "kernelspec": {
   "display_name": "ghaluh",
   "language": "python",
   "name": "ghaluh"
  },
  "language_info": {
   "codemirror_mode": {
    "name": "ipython",
    "version": 3
   },
   "file_extension": ".py",
   "mimetype": "text/x-python",
   "name": "python",
   "nbconvert_exporter": "python",
   "pygments_lexer": "ipython3",
   "version": "3.9.7"
  },
  "varInspector": {
   "cols": {
    "lenName": 16,
    "lenType": 16,
    "lenVar": 40
   },
   "kernels_config": {
    "python": {
     "delete_cmd_postfix": "",
     "delete_cmd_prefix": "del ",
     "library": "var_list.py",
     "varRefreshCmd": "print(var_dic_list())"
    },
    "r": {
     "delete_cmd_postfix": ") ",
     "delete_cmd_prefix": "rm(",
     "library": "var_list.r",
     "varRefreshCmd": "cat(var_dic_list()) "
    }
   },
   "types_to_exclude": [
    "module",
    "function",
    "builtin_function_or_method",
    "instance",
    "_Feature"
   ],
   "window_display": false
  }
 },
 "nbformat": 4,
 "nbformat_minor": 5
}
